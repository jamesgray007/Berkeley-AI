{
 "cells": [
  {
   "cell_type": "markdown",
   "metadata": {},
   "source": [
    "# Module 2 - Machine Learning Basics\n",
    "This notebook covers basic machine learning examples using various supervised and unsupervised algorithms.  \n",
    "Tools used:  \n",
    "[Conda](https://www.anaconda.com/download) for Python distribution, package management, and environments  \n",
    "[scikit-learn](https://scikit-learn.org/stable/index.html)  \n",
    "[Hugging Face](https://huggingface.co/)   \n"
   ]
  },
  {
   "cell_type": "markdown",
   "metadata": {},
   "source": [
    "## Environment Setup\n",
    "I will using Anaconda Conda for the Python distribution and to manage packages for this notebook. Using the terminal window in VS Code (View > Terminal), the following code will create a new environment \"berkeley.\" It's a best practice to create an environment to minimize code packages and reduce potential conflicts.\n",
    "```\n",
    "conda create -n myenv python=3.8\n",
    "```\n",
    "then to activate the environment  \n",
    "\n",
    "```conda activate berkeley ```"
   ]
  }
 ],
 "metadata": {
  "language_info": {
   "name": "python"
  }
 },
 "nbformat": 4,
 "nbformat_minor": 2
}
